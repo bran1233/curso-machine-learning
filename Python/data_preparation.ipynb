{
  "nbformat": 4,
  "nbformat_minor": 0,
  "metadata": {
    "colab": {
      "provenance": [],
      "include_colab_link": true
    },
    "kernelspec": {
      "name": "python3",
      "display_name": "Python 3"
    },
    "language_info": {
      "name": "python"
    }
  },
  "cells": [
    {
      "cell_type": "markdown",
      "metadata": {
        "id": "view-in-github",
        "colab_type": "text"
      },
      "source": [
        "<a href=\"https://colab.research.google.com/github/bran1233/curso-machine-learning/blob/main/Python/data_preparation.ipynb\" target=\"_parent\"><img src=\"https://colab.research.google.com/assets/colab-badge.svg\" alt=\"Open In Colab\"/></a>"
      ]
    },
    {
      "cell_type": "markdown",
      "source": [
        "<h1 align=center><font size = 5>Data Preparation</font></h1>\n",
        "\n",
        "---"
      ],
      "metadata": {
        "id": "FkO9UUay6cst"
      }
    },
    {
      "cell_type": "markdown",
      "source": [
        "\n",
        "<img src=\"https://www.qalyptus.com/blog/wp-content/uploads/2020/02/data-analitics.png\n",
        "\" width=\"800\" height=\"300\" >"
      ],
      "metadata": {
        "id": "TK5isz3nAEtt"
      }
    },
    {
      "cell_type": "markdown",
      "metadata": {
        "button": false,
        "deletable": true,
        "new_sheet": false,
        "run_control": {
          "read_only": false
        },
        "id": "R_NIQeNlLo19"
      },
      "source": [
        "## Introducción\n"
      ]
    },
    {
      "cell_type": "markdown",
      "metadata": {
        "id": "g7LRGuxBHMpw"
      },
      "source": [
        "En este laboratorio, aprenderá a usar python para realizar limpieza básica de datos.\n",
        "\n",
        "---"
      ]
    },
    {
      "cell_type": "markdown",
      "source": [
        "### Tabla de Contenidos\n",
        "\n",
        "<div class=\"alert alert-block alert-info\" style=\"margin-top: 20px\">\n",
        "\n",
        "<font size = 3>\n",
        "    \n",
        "1. <a href=\"#item31\">Leer y explorar la data</a>  \n",
        "2. <a href=\"#item32\">Consistencia de datos</a>  \n",
        "3. <a href=\"#item33\">Tratamiento de outliers</a>\n",
        "4. <a href=\"#item33\">Tratamiento de missings</a>\n",
        "\n",
        "</font>\n",
        "</div>"
      ],
      "metadata": {
        "id": "_SSECOwa8TUt"
      }
    },
    {
      "cell_type": "markdown",
      "source": [
        "## 1. Leer y explorar la data"
      ],
      "metadata": {
        "id": "VM2Vr1sd8hAC"
      }
    },
    {
      "cell_type": "code",
      "source": [
        "# Imports comunes\n",
        "\n",
        "import pandas as pd\n",
        "import numpy as np\n",
        "import seaborn as sns"
      ],
      "metadata": {
        "id": "Ok0cLZ356spE"
      },
      "execution_count": null,
      "outputs": []
    },
    {
      "cell_type": "code",
      "execution_count": null,
      "metadata": {
        "id": "vvcw5QJy6VQF"
      },
      "outputs": [],
      "source": [
        "# Lectura de datos\n",
        "\n",
        "pddf = pd.read_csv('data_clientes.csv')\n",
        "pddf.head()"
      ]
    },
    {
      "cell_type": "markdown",
      "source": [
        "## 1. Consistencia de datos"
      ],
      "metadata": {
        "id": "zJNTytec7EBC"
      }
    },
    {
      "cell_type": "markdown",
      "source": [
        "Implica asegurarse de que sean lógicos, consistentes y sigan las reglas o expectativas predefinidas. Un conjunto de datos coherente no tiene contradicciones y se alinea con la realidad esperada.\n"
      ],
      "metadata": {
        "id": "Fy4SftIC_EfK"
      }
    },
    {
      "cell_type": "code",
      "source": [
        "# Contar los datos\n",
        "pddf.shape"
      ],
      "metadata": {
        "id": "gy6PQuar8wrJ"
      },
      "execution_count": null,
      "outputs": []
    },
    {
      "cell_type": "code",
      "source": [
        "#Resumen descriptivo de datos\n",
        "pddf.describe()"
      ],
      "metadata": {
        "id": "2k-yyKLj7MLQ"
      },
      "execution_count": null,
      "outputs": []
    },
    {
      "cell_type": "code",
      "source": [
        "pddf['Sex'].value_counts()"
      ],
      "metadata": {
        "id": "7NZE7BV_8G9I"
      },
      "execution_count": null,
      "outputs": []
    },
    {
      "cell_type": "code",
      "source": [
        "# Contar datos únicos\n",
        "pddf.drop_duplicates().shape"
      ],
      "metadata": {
        "id": "uuCh1-hn_G7F"
      },
      "execution_count": null,
      "outputs": []
    },
    {
      "cell_type": "markdown",
      "source": [
        "## 3. Tratamiento de Outliers"
      ],
      "metadata": {
        "id": "4wDjkH9v7Qh5"
      }
    },
    {
      "cell_type": "markdown",
      "source": [
        "El tratamiento de outliers, también conocido como manejo de valores atípicos, es un proceso en el análisis de datos que se refiere a cómo se deben abordar los puntos de datos que se encuentran fuera del rango típico o esperado. Los outliers son observaciones que se desvían significativamente del patrón general de los demás datos."
      ],
      "metadata": {
        "id": "ZrsmVvbvyQQo"
      }
    },
    {
      "cell_type": "markdown",
      "source": [
        "#### Rango Intercuantílico"
      ],
      "metadata": {
        "id": "vzdI2sGIRQhX"
      }
    },
    {
      "cell_type": "markdown",
      "source": [
        "El tratamiento de outliers utilizando el rango intercuartílico (IQR, por sus siglas en inglés) es una técnica común para identificar y manejar valores atípicos en un conjunto de datos. El rango intercuartílico es la diferencia entre el tercer cuartil (Q3) y el primer cuartil (Q1) de los datos."
      ],
      "metadata": {
        "id": "Y-kOV842yePP"
      }
    },
    {
      "cell_type": "markdown",
      "source": [
        "<img src=\"https://miro.medium.com/max/1400/1*2c21SkzJMf3frPXPAR_gZA.png\" width=\"500\"\n",
        "     height=\"300\" >"
      ],
      "metadata": {
        "id": "hreWAj5MTulj"
      }
    },
    {
      "cell_type": "code",
      "source": [
        "#Boxplot\n",
        "sns.boxplot(data=pddf[['Age']], orient=\"h\")"
      ],
      "metadata": {
        "id": "wCeFgQSl9PPk"
      },
      "execution_count": null,
      "outputs": []
    },
    {
      "cell_type": "code",
      "source": [
        "# Tratamiento de outliers\n",
        "\n",
        "Q3 = np.percentile(pddf['Age'].dropna(), 75)\n",
        "Q1 = np.percentile(pddf['Age'].dropna(), 25)\n",
        "\n",
        "LI = Q1 - 1.5*(Q3 - Q1)\n",
        "LS = Q3 + 1.5*(Q3 - Q1)\n",
        "\n",
        "print(f'El limite inferior es: {LI} y el límite superior es: {LS}')"
      ],
      "metadata": {
        "id": "ac6sfECS87qr"
      },
      "execution_count": null,
      "outputs": []
    },
    {
      "cell_type": "code",
      "source": [
        "pddf['Age'] = pddf.Age.apply(lambda x: LI if x <= LI else LS if x >= LS else x)"
      ],
      "metadata": {
        "id": "DT1QrWymBNTC"
      },
      "execution_count": null,
      "outputs": []
    },
    {
      "cell_type": "code",
      "source": [
        "#Boxplot\n",
        "sns.boxplot(data=pddf['Age'], orient=\"h\")"
      ],
      "metadata": {
        "id": "mt9AS2qh-1AA"
      },
      "execution_count": null,
      "outputs": []
    },
    {
      "cell_type": "markdown",
      "source": [
        "## 2. Tratamiento de missings"
      ],
      "metadata": {
        "id": "aCr08naI7Mmu"
      }
    },
    {
      "cell_type": "markdown",
      "source": [
        "Imputación de valores: En lugar de eliminar los valores faltantes, se pueden reemplazar por valores estimados o imputados. Esto implica reemplazar los valores faltantes con medidas de tendencia central, como la media o la mediana, o utilizar métodos más avanzados como la regresión o el algoritmo K-NN para estimar los valores faltantes basándose en otros atributos del conjunto de datos."
      ],
      "metadata": {
        "id": "7jEKPlMP_26Q"
      }
    },
    {
      "cell_type": "code",
      "source": [
        "# Detección de missings\n",
        "\n",
        "pddf.isnull().sum()"
      ],
      "metadata": {
        "id": "-64qApkj_3m3"
      },
      "execution_count": null,
      "outputs": []
    },
    {
      "cell_type": "code",
      "source": [
        "# Tratamiento de missings\n",
        "promedio = pddf['Age'].mean()\n",
        "pddf['Age'] = pddf['Age'].fillna(promedio)\n"
      ],
      "metadata": {
        "id": "35UmHZM3Agro"
      },
      "execution_count": null,
      "outputs": []
    },
    {
      "cell_type": "code",
      "source": [
        "#Comprobar Tratamiento\n",
        "pddf.isnull().sum()"
      ],
      "metadata": {
        "id": "3Qx22n9IAtkc"
      },
      "execution_count": null,
      "outputs": []
    },
    {
      "cell_type": "code",
      "source": [
        "# Exportamos datos tratados\n",
        "\n",
        "pddf.to_csv('data_clientes_tratado.csv', index = 0)"
      ],
      "metadata": {
        "id": "EjRRj1TIBLCs"
      },
      "execution_count": null,
      "outputs": []
    },
    {
      "cell_type": "markdown",
      "source": [
        "---\n",
        "\n",
        "# Gracias por completar este laboratorio!\n",
        "\n",
        "---\n",
        "\n"
      ],
      "metadata": {
        "id": "OTbpVbb93WTB"
      }
    }
  ]
}